{
 "cells": [
  {
   "cell_type": "markdown",
   "id": "669ffff0",
   "metadata": {},
   "source": [
    "### Spherical Harmonics"
   ]
  },
  {
   "cell_type": "markdown",
   "id": "5301fb52",
   "metadata": {},
   "source": [
    "\n",
    "$$\n",
    "\\text{Hydrogen Atom for radial potential (Couloumb Potential)}\n",
    "$$\n",
    "\n",
    "$$\n",
    "v(r)= \\frac{-Ze^2}{4\\pi\\epsilon_0r}\n",
    "$$\n",
    "\n",
    "$$\n",
    "\\psi_{nlm} = R_{nl}(r)Y_l^m(\\theta,\\phi)\n",
    "$$\n",
    "\n",
    "$$\n",
    "\\text{Angular part :}\n",
    "$$\n",
    "\n",
    "$$\n",
    "Y_l^m(\\theta,\\phi)=\\sqrt{\\frac{2l+1}{4\\pi} \\frac{(l-m)!}{(l+1)!}} e^{im\\phi} P_{l}^m(\\cos{\\theta})\n",
    "$$\n",
    "\n",
    "$$\n",
    "P_l^m(\\cos{\\theta}) = (1 - x^2)^{\\frac{|m|}{2}}\\frac{d^{|m|}}{dx^{|m|}}P_l(x)\\;\\; , \\;\\; x = \\cos{\\theta}\n",
    "$$\n",
    "\n",
    "$$\n",
    "P_l(x) = \\frac{1}{2^ll!}\\frac{d^l}{dx^l}(x^2-1)^l\n",
    "$$\n",
    "\n",
    "$$\n",
    "\\text{Radial part :}\n",
    "$$\n",
    "\n",
    "$$\n",
    "R_{nl}(r) = \\sqrt{ {\\frac{2Z}{na_0}}^3 \\frac{(n-l-1)!}{2n[(n+l)!]} } e^{\\frac{-Zr}{na_0}} {\\frac{2Zr}{na_0}}^lL_{n-l-1}^{2l+1}\\left(\\frac{2Zr}{na_0}\\right)\n",
    "$$\n",
    "\n",
    "$$\n",
    "L_{n-l-1}^{2l+1}(x) = \\frac{x^{-(2l+1)} e^x}{(n-l-1)!} \n",
    "\\frac{d^{\\,n-l-1}}{dx^{\\,n-l-1}} \\Big( e^{-x} x^{\\,n+l} \\Big) \\;\\; , \\;\\; x=\\frac{2Zr}{na_0}\n",
    "\n",
    "$$"
   ]
  }
 ],
 "metadata": {
  "kernelspec": {
   "display_name": "base",
   "language": "python",
   "name": "python3"
  },
  "language_info": {
   "name": "python",
   "version": "3.12.4"
  }
 },
 "nbformat": 4,
 "nbformat_minor": 5
}
